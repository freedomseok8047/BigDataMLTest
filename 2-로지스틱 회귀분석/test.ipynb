{
 "cells": [
  {
   "cell_type": "markdown",
   "metadata": {},
   "source": [
    "### 머신러닝 프로세스 기반 \n",
    "#### 수집된 (전처리된 데이터) -> 모델 -> 모델 학습 -> 예측(평가)\n",
    "#### 데이터 : UCI 레포지토리에서 제공된, 유방암 진단 샘플 데이터를 이용\n",
    "#### 로지스틱 회귀, 시그모이드 함수,\n",
    "#### 성능 평가 지표 -> 오차행렬, 정밀도, 재현율, F1 스코어, ROC 기반, AUC 스코어\n",
    "#### 예) 암이 아닌 환자, 암환자 예측\n",
    "#### 행(실제)\n",
    "#### 0  TN(True Negative)   FP (False Positive)\n",
    "#### 1  FN(False Negative)  TP (True Positive)"
   ]
  },
  {
   "cell_type": "markdown",
   "metadata": {},
   "source": [
    "### 용어정리\n",
    "#### 로지스틱 회귀 : 분류에 사용하는 기법, 선형함수(직선)을 사용해서, 추세를 예측하는 선형회귀 \n",
    "#### 선형회귀랑은 다르게, 참, 거짓을 분류 하는 목적 . 비선형 함수 (시그모이드 함수)\n",
    "#### f(x) = 1 / ( 1 + e^-x )\n",
    "\n",
    "#### 시그모이드 함수 기본형 -> s자형 \n",
    "#### x 클수록 1에 근사\n",
    "#### x 작을 수록 0에 근사\n",
    "\n",
    "\n",
    "#### 오차 행렬\n",
    "\n",
    "#### 행(실제 클래스)        (예측 부정)       (예측 긍정)       열(예측 클래스)\n",
    "#### 0(실제부정)            TN                FP\n",
    "#### 1(실제긍정)            FN                TP\n",
    "\n",
    "#### 정확도 = 바르게 예측한 수 / 전체 데이터 수\n",
    "#### 정확도 = (TN + TP) / (TN + TP + FN + TP)\n",
    "\n",
    "#### Positive 예측 성능을 더 정밀하게 평가하는 지표\n",
    "#### 사이킷 런 함수로 제공 : precision_score\n",
    "#### 정밀도 = 참인 것의 수 (TP) / 예측이 긍정인 것 (FP + TP)\n",
    "\n",
    "#### 암환자 진단 할 땐 정밀도가 더 중요 Positive 나온것 중에 실제 암이냐 아니냐?\n",
    "\n",
    "#### 재현율 = 참인 것의 수 (TP) / 실제값이 긍정인 것 중 (FN + TP)\n",
    "#### 실제 Positive인 데이터를 정확히 예측하는 평가 지표. 민감도라고도 하며, TPR (True Positive Rate)\n",
    "#### 사이킷 런 함수로 제곡 : recall_score\n",
    "\n",
    "#### F1 스코어 : 정밀도와 재현율을 결합한 평가지표, 상충관계 문제점을 고려해서, 저확한 평가에 사용됨 \n",
    "#### F1_score = 2 * ( 정밀도 * 재현율) / (정밀도 + 재현율)\n",
    "\n",
    "#### ROC 기반 AUC 스코어\n",
    "#### ROC = 오차행렬에서, FPR(False Positive Rate)\n",
    "#### FPR = FP / (TN + FP)  => 거짓인것 수 / 실제값이 거짓인것 중\n",
    "#### -> 1에 가까울 수록 좋은 성능\n",
    "#### -> 사이킷 런에서 함수 제공 : roc_auc_score\n",
    "\n",
    "\n",
    "#### 유방암 데이터 샘플을 가지고, 실제 암환자, 모델을 학습 -> 학습된 모델을 평가\n",
    "#### 평가의 예측값이 -> 셀제값과 어느정도 일치 하느지 여부, 우리가 확인\n",
    "\n",
    "#### 보스턴 집값도 , 사이킷 런에서 내장된 데이터를 사용햇음 "
   ]
  },
  {
   "cell_type": "code",
   "execution_count": 3,
   "metadata": {},
   "outputs": [
    {
     "name": "stdout",
     "output_type": "stream",
     "text": [
      "Requirement already satisfied: scikit-learn==1.0.2 in /Library/Frameworks/Python.framework/Versions/3.10/lib/python3.10/site-packages (1.0.2)\n",
      "Requirement already satisfied: numpy>=1.14.6 in /Library/Frameworks/Python.framework/Versions/3.10/lib/python3.10/site-packages (from scikit-learn==1.0.2) (1.26.2)\n",
      "Requirement already satisfied: scipy>=1.1.0 in /Library/Frameworks/Python.framework/Versions/3.10/lib/python3.10/site-packages (from scikit-learn==1.0.2) (1.11.4)\n",
      "Requirement already satisfied: joblib>=0.11 in /Library/Frameworks/Python.framework/Versions/3.10/lib/python3.10/site-packages (from scikit-learn==1.0.2) (1.3.2)\n",
      "Requirement already satisfied: threadpoolctl>=2.0.0 in /Library/Frameworks/Python.framework/Versions/3.10/lib/python3.10/site-packages (from scikit-learn==1.0.2) (3.2.0)\n"
     ]
    }
   ],
   "source": [
    "!pip3 install scikit-learn==1.0.2"
   ]
  },
  {
   "cell_type": "code",
   "execution_count": 4,
   "metadata": {},
   "outputs": [],
   "source": [
    "import numpy as np\n",
    "import pandas as pd\n",
    "\n",
    "from sklearn.datasets import load_breast_cancer"
   ]
  },
  {
   "cell_type": "code",
   "execution_count": 5,
   "metadata": {},
   "outputs": [
    {
     "name": "stdout",
     "output_type": "stream",
     "text": [
      ".. _breast_cancer_dataset:\n",
      "\n",
      "Breast cancer wisconsin (diagnostic) dataset\n",
      "--------------------------------------------\n",
      "\n",
      "**Data Set Characteristics:**\n",
      "\n",
      "    :Number of Instances: 569\n",
      "\n",
      "    :Number of Attributes: 30 numeric, predictive attributes and the class\n",
      "\n",
      "    :Attribute Information:\n",
      "        - radius (mean of distances from center to points on the perimeter)\n",
      "        - texture (standard deviation of gray-scale values)\n",
      "        - perimeter\n",
      "        - area\n",
      "        - smoothness (local variation in radius lengths)\n",
      "        - compactness (perimeter^2 / area - 1.0)\n",
      "        - concavity (severity of concave portions of the contour)\n",
      "        - concave points (number of concave portions of the contour)\n",
      "        - symmetry\n",
      "        - fractal dimension (\"coastline approximation\" - 1)\n",
      "\n",
      "        The mean, standard error, and \"worst\" or largest (mean of the three\n",
      "        worst/largest values) of these features were computed for each image,\n",
      "        resulting in 30 features.  For instance, field 0 is Mean Radius, field\n",
      "        10 is Radius SE, field 20 is Worst Radius.\n",
      "\n",
      "        - class:\n",
      "                - WDBC-Malignant\n",
      "                - WDBC-Benign\n",
      "\n",
      "    :Summary Statistics:\n",
      "\n",
      "    ===================================== ====== ======\n",
      "                                           Min    Max\n",
      "    ===================================== ====== ======\n",
      "    radius (mean):                        6.981  28.11\n",
      "    texture (mean):                       9.71   39.28\n",
      "    perimeter (mean):                     43.79  188.5\n",
      "    area (mean):                          143.5  2501.0\n",
      "    smoothness (mean):                    0.053  0.163\n",
      "    compactness (mean):                   0.019  0.345\n",
      "    concavity (mean):                     0.0    0.427\n",
      "    concave points (mean):                0.0    0.201\n",
      "    symmetry (mean):                      0.106  0.304\n",
      "    fractal dimension (mean):             0.05   0.097\n",
      "    radius (standard error):              0.112  2.873\n",
      "    texture (standard error):             0.36   4.885\n",
      "    perimeter (standard error):           0.757  21.98\n",
      "    area (standard error):                6.802  542.2\n",
      "    smoothness (standard error):          0.002  0.031\n",
      "    compactness (standard error):         0.002  0.135\n",
      "    concavity (standard error):           0.0    0.396\n",
      "    concave points (standard error):      0.0    0.053\n",
      "    symmetry (standard error):            0.008  0.079\n",
      "    fractal dimension (standard error):   0.001  0.03\n",
      "    radius (worst):                       7.93   36.04\n",
      "    texture (worst):                      12.02  49.54\n",
      "    perimeter (worst):                    50.41  251.2\n",
      "    area (worst):                         185.2  4254.0\n",
      "    smoothness (worst):                   0.071  0.223\n",
      "    compactness (worst):                  0.027  1.058\n",
      "    concavity (worst):                    0.0    1.252\n",
      "    concave points (worst):               0.0    0.291\n",
      "    symmetry (worst):                     0.156  0.664\n",
      "    fractal dimension (worst):            0.055  0.208\n",
      "    ===================================== ====== ======\n",
      "\n",
      "    :Missing Attribute Values: None\n",
      "\n",
      "    :Class Distribution: 212 - Malignant, 357 - Benign\n",
      "\n",
      "    :Creator:  Dr. William H. Wolberg, W. Nick Street, Olvi L. Mangasarian\n",
      "\n",
      "    :Donor: Nick Street\n",
      "\n",
      "    :Date: November, 1995\n",
      "\n",
      "This is a copy of UCI ML Breast Cancer Wisconsin (Diagnostic) datasets.\n",
      "https://goo.gl/U2Uwz2\n",
      "\n",
      "Features are computed from a digitized image of a fine needle\n",
      "aspirate (FNA) of a breast mass.  They describe\n",
      "characteristics of the cell nuclei present in the image.\n",
      "\n",
      "Separating plane described above was obtained using\n",
      "Multisurface Method-Tree (MSM-T) [K. P. Bennett, \"Decision Tree\n",
      "Construction Via Linear Programming.\" Proceedings of the 4th\n",
      "Midwest Artificial Intelligence and Cognitive Science Society,\n",
      "pp. 97-101, 1992], a classification method which uses linear\n",
      "programming to construct a decision tree.  Relevant features\n",
      "were selected using an exhaustive search in the space of 1-4\n",
      "features and 1-3 separating planes.\n",
      "\n",
      "The actual linear program used to obtain the separating plane\n",
      "in the 3-dimensional space is that described in:\n",
      "[K. P. Bennett and O. L. Mangasarian: \"Robust Linear\n",
      "Programming Discrimination of Two Linearly Inseparable Sets\",\n",
      "Optimization Methods and Software 1, 1992, 23-34].\n",
      "\n",
      "This database is also available through the UW CS ftp server:\n",
      "\n",
      "ftp ftp.cs.wisc.edu\n",
      "cd math-prog/cpo-dataset/machine-learn/WDBC/\n",
      "\n",
      ".. topic:: References\n",
      "\n",
      "   - W.N. Street, W.H. Wolberg and O.L. Mangasarian. Nuclear feature extraction \n",
      "     for breast tumor diagnosis. IS&T/SPIE 1993 International Symposium on \n",
      "     Electronic Imaging: Science and Technology, volume 1905, pages 861-870,\n",
      "     San Jose, CA, 1993.\n",
      "   - O.L. Mangasarian, W.N. Street and W.H. Wolberg. Breast cancer diagnosis and \n",
      "     prognosis via linear programming. Operations Research, 43(4), pages 570-577, \n",
      "     July-August 1995.\n",
      "   - W.H. Wolberg, W.N. Street, and O.L. Mangasarian. Machine learning techniques\n",
      "     to diagnose breast cancer from fine-needle aspirates. Cancer Letters 77 (1994) \n",
      "     163-171.\n"
     ]
    }
   ],
   "source": [
    "b_cancer = load_breast_cancer()\n",
    "print(b_cancer.DESCR)"
   ]
  },
  {
   "cell_type": "code",
   "execution_count": 6,
   "metadata": {},
   "outputs": [
    {
     "data": {
      "text/html": [
       "<div>\n",
       "<style scoped>\n",
       "    .dataframe tbody tr th:only-of-type {\n",
       "        vertical-align: middle;\n",
       "    }\n",
       "\n",
       "    .dataframe tbody tr th {\n",
       "        vertical-align: top;\n",
       "    }\n",
       "\n",
       "    .dataframe thead th {\n",
       "        text-align: right;\n",
       "    }\n",
       "</style>\n",
       "<table border=\"1\" class=\"dataframe\">\n",
       "  <thead>\n",
       "    <tr style=\"text-align: right;\">\n",
       "      <th></th>\n",
       "      <th>mean radius</th>\n",
       "      <th>mean texture</th>\n",
       "      <th>mean perimeter</th>\n",
       "      <th>mean area</th>\n",
       "      <th>mean smoothness</th>\n",
       "      <th>mean compactness</th>\n",
       "      <th>mean concavity</th>\n",
       "      <th>mean concave points</th>\n",
       "      <th>mean symmetry</th>\n",
       "      <th>mean fractal dimension</th>\n",
       "      <th>...</th>\n",
       "      <th>worst texture</th>\n",
       "      <th>worst perimeter</th>\n",
       "      <th>worst area</th>\n",
       "      <th>worst smoothness</th>\n",
       "      <th>worst compactness</th>\n",
       "      <th>worst concavity</th>\n",
       "      <th>worst concave points</th>\n",
       "      <th>worst symmetry</th>\n",
       "      <th>worst fractal dimension</th>\n",
       "      <th>diagnosis</th>\n",
       "    </tr>\n",
       "  </thead>\n",
       "  <tbody>\n",
       "    <tr>\n",
       "      <th>0</th>\n",
       "      <td>17.99</td>\n",
       "      <td>10.38</td>\n",
       "      <td>122.80</td>\n",
       "      <td>1001.0</td>\n",
       "      <td>0.11840</td>\n",
       "      <td>0.27760</td>\n",
       "      <td>0.3001</td>\n",
       "      <td>0.14710</td>\n",
       "      <td>0.2419</td>\n",
       "      <td>0.07871</td>\n",
       "      <td>...</td>\n",
       "      <td>17.33</td>\n",
       "      <td>184.60</td>\n",
       "      <td>2019.0</td>\n",
       "      <td>0.1622</td>\n",
       "      <td>0.6656</td>\n",
       "      <td>0.7119</td>\n",
       "      <td>0.2654</td>\n",
       "      <td>0.4601</td>\n",
       "      <td>0.11890</td>\n",
       "      <td>0</td>\n",
       "    </tr>\n",
       "    <tr>\n",
       "      <th>1</th>\n",
       "      <td>20.57</td>\n",
       "      <td>17.77</td>\n",
       "      <td>132.90</td>\n",
       "      <td>1326.0</td>\n",
       "      <td>0.08474</td>\n",
       "      <td>0.07864</td>\n",
       "      <td>0.0869</td>\n",
       "      <td>0.07017</td>\n",
       "      <td>0.1812</td>\n",
       "      <td>0.05667</td>\n",
       "      <td>...</td>\n",
       "      <td>23.41</td>\n",
       "      <td>158.80</td>\n",
       "      <td>1956.0</td>\n",
       "      <td>0.1238</td>\n",
       "      <td>0.1866</td>\n",
       "      <td>0.2416</td>\n",
       "      <td>0.1860</td>\n",
       "      <td>0.2750</td>\n",
       "      <td>0.08902</td>\n",
       "      <td>0</td>\n",
       "    </tr>\n",
       "    <tr>\n",
       "      <th>2</th>\n",
       "      <td>19.69</td>\n",
       "      <td>21.25</td>\n",
       "      <td>130.00</td>\n",
       "      <td>1203.0</td>\n",
       "      <td>0.10960</td>\n",
       "      <td>0.15990</td>\n",
       "      <td>0.1974</td>\n",
       "      <td>0.12790</td>\n",
       "      <td>0.2069</td>\n",
       "      <td>0.05999</td>\n",
       "      <td>...</td>\n",
       "      <td>25.53</td>\n",
       "      <td>152.50</td>\n",
       "      <td>1709.0</td>\n",
       "      <td>0.1444</td>\n",
       "      <td>0.4245</td>\n",
       "      <td>0.4504</td>\n",
       "      <td>0.2430</td>\n",
       "      <td>0.3613</td>\n",
       "      <td>0.08758</td>\n",
       "      <td>0</td>\n",
       "    </tr>\n",
       "    <tr>\n",
       "      <th>3</th>\n",
       "      <td>11.42</td>\n",
       "      <td>20.38</td>\n",
       "      <td>77.58</td>\n",
       "      <td>386.1</td>\n",
       "      <td>0.14250</td>\n",
       "      <td>0.28390</td>\n",
       "      <td>0.2414</td>\n",
       "      <td>0.10520</td>\n",
       "      <td>0.2597</td>\n",
       "      <td>0.09744</td>\n",
       "      <td>...</td>\n",
       "      <td>26.50</td>\n",
       "      <td>98.87</td>\n",
       "      <td>567.7</td>\n",
       "      <td>0.2098</td>\n",
       "      <td>0.8663</td>\n",
       "      <td>0.6869</td>\n",
       "      <td>0.2575</td>\n",
       "      <td>0.6638</td>\n",
       "      <td>0.17300</td>\n",
       "      <td>0</td>\n",
       "    </tr>\n",
       "    <tr>\n",
       "      <th>4</th>\n",
       "      <td>20.29</td>\n",
       "      <td>14.34</td>\n",
       "      <td>135.10</td>\n",
       "      <td>1297.0</td>\n",
       "      <td>0.10030</td>\n",
       "      <td>0.13280</td>\n",
       "      <td>0.1980</td>\n",
       "      <td>0.10430</td>\n",
       "      <td>0.1809</td>\n",
       "      <td>0.05883</td>\n",
       "      <td>...</td>\n",
       "      <td>16.67</td>\n",
       "      <td>152.20</td>\n",
       "      <td>1575.0</td>\n",
       "      <td>0.1374</td>\n",
       "      <td>0.2050</td>\n",
       "      <td>0.4000</td>\n",
       "      <td>0.1625</td>\n",
       "      <td>0.2364</td>\n",
       "      <td>0.07678</td>\n",
       "      <td>0</td>\n",
       "    </tr>\n",
       "  </tbody>\n",
       "</table>\n",
       "<p>5 rows × 31 columns</p>\n",
       "</div>"
      ],
      "text/plain": [
       "   mean radius  mean texture  mean perimeter  mean area  mean smoothness  \\\n",
       "0        17.99         10.38          122.80     1001.0          0.11840   \n",
       "1        20.57         17.77          132.90     1326.0          0.08474   \n",
       "2        19.69         21.25          130.00     1203.0          0.10960   \n",
       "3        11.42         20.38           77.58      386.1          0.14250   \n",
       "4        20.29         14.34          135.10     1297.0          0.10030   \n",
       "\n",
       "   mean compactness  mean concavity  mean concave points  mean symmetry  \\\n",
       "0           0.27760          0.3001              0.14710         0.2419   \n",
       "1           0.07864          0.0869              0.07017         0.1812   \n",
       "2           0.15990          0.1974              0.12790         0.2069   \n",
       "3           0.28390          0.2414              0.10520         0.2597   \n",
       "4           0.13280          0.1980              0.10430         0.1809   \n",
       "\n",
       "   mean fractal dimension  ...  worst texture  worst perimeter  worst area  \\\n",
       "0                 0.07871  ...          17.33           184.60      2019.0   \n",
       "1                 0.05667  ...          23.41           158.80      1956.0   \n",
       "2                 0.05999  ...          25.53           152.50      1709.0   \n",
       "3                 0.09744  ...          26.50            98.87       567.7   \n",
       "4                 0.05883  ...          16.67           152.20      1575.0   \n",
       "\n",
       "   worst smoothness  worst compactness  worst concavity  worst concave points  \\\n",
       "0            0.1622             0.6656           0.7119                0.2654   \n",
       "1            0.1238             0.1866           0.2416                0.1860   \n",
       "2            0.1444             0.4245           0.4504                0.2430   \n",
       "3            0.2098             0.8663           0.6869                0.2575   \n",
       "4            0.1374             0.2050           0.4000                0.1625   \n",
       "\n",
       "   worst symmetry  worst fractal dimension  diagnosis  \n",
       "0          0.4601                  0.11890          0  \n",
       "1          0.2750                  0.08902          0  \n",
       "2          0.3613                  0.08758          0  \n",
       "3          0.6638                  0.17300          0  \n",
       "4          0.2364                  0.07678          0  \n",
       "\n",
       "[5 rows x 31 columns]"
      ]
     },
     "execution_count": 6,
     "metadata": {},
     "output_type": "execute_result"
    }
   ],
   "source": [
    "b_cancer_df = pd.DataFrame(b_cancer.data, columns=b_cancer.feature_names)\n",
    "# 새 컬럼 추가, 종속 변수인, 암의 진단 여부 컬럼 추가. \n",
    "b_cancer_df[\"diagnosis\"] = b_cancer.target  # 1:악성(암) 2.양성(혹) \n",
    "b_cancer_df.head()"
   ]
  },
  {
   "cell_type": "code",
   "execution_count": 7,
   "metadata": {},
   "outputs": [
    {
     "name": "stdout",
     "output_type": "stream",
     "text": [
      "샘플 데이터 크기 조회 : (569, 31)\n"
     ]
    }
   ],
   "source": [
    "# 데이터 갯수 파악\n",
    "print(f\"샘플 데이터 크기 조회 : {b_cancer_df.shape}\")"
   ]
  },
  {
   "cell_type": "code",
   "execution_count": 8,
   "metadata": {},
   "outputs": [
    {
     "name": "stdout",
     "output_type": "stream",
     "text": [
      "<class 'pandas.core.frame.DataFrame'>\n",
      "RangeIndex: 569 entries, 0 to 568\n",
      "Data columns (total 31 columns):\n",
      " #   Column                   Non-Null Count  Dtype  \n",
      "---  ------                   --------------  -----  \n",
      " 0   mean radius              569 non-null    float64\n",
      " 1   mean texture             569 non-null    float64\n",
      " 2   mean perimeter           569 non-null    float64\n",
      " 3   mean area                569 non-null    float64\n",
      " 4   mean smoothness          569 non-null    float64\n",
      " 5   mean compactness         569 non-null    float64\n",
      " 6   mean concavity           569 non-null    float64\n",
      " 7   mean concave points      569 non-null    float64\n",
      " 8   mean symmetry            569 non-null    float64\n",
      " 9   mean fractal dimension   569 non-null    float64\n",
      " 10  radius error             569 non-null    float64\n",
      " 11  texture error            569 non-null    float64\n",
      " 12  perimeter error          569 non-null    float64\n",
      " 13  area error               569 non-null    float64\n",
      " 14  smoothness error         569 non-null    float64\n",
      " 15  compactness error        569 non-null    float64\n",
      " 16  concavity error          569 non-null    float64\n",
      " 17  concave points error     569 non-null    float64\n",
      " 18  symmetry error           569 non-null    float64\n",
      " 19  fractal dimension error  569 non-null    float64\n",
      " 20  worst radius             569 non-null    float64\n",
      " 21  worst texture            569 non-null    float64\n",
      " 22  worst perimeter          569 non-null    float64\n",
      " 23  worst area               569 non-null    float64\n",
      " 24  worst smoothness         569 non-null    float64\n",
      " 25  worst compactness        569 non-null    float64\n",
      " 26  worst concavity          569 non-null    float64\n",
      " 27  worst concave points     569 non-null    float64\n",
      " 28  worst symmetry           569 non-null    float64\n",
      " 29  worst fractal dimension  569 non-null    float64\n",
      " 30  diagnosis                569 non-null    int64  \n",
      "dtypes: float64(30), int64(1)\n",
      "memory usage: 137.9 KB\n"
     ]
    }
   ],
   "source": [
    "# 기본 속성 파악 (전처리 되어있는지 확인)\n",
    "b_cancer_df.info()"
   ]
  },
  {
   "cell_type": "code",
   "execution_count": 9,
   "metadata": {},
   "outputs": [
    {
     "name": "stdout",
     "output_type": "stream",
     "text": [
      "샘플데이터 정규화 전  b_cancer.data[0] 결과 확인 : [1.799e+01 1.038e+01 1.228e+02 1.001e+03 1.184e-01 2.776e-01 3.001e-01\n",
      " 1.471e-01 2.419e-01 7.871e-02 1.095e+00 9.053e-01 8.589e+00 1.534e+02\n",
      " 6.399e-03 4.904e-02 5.373e-02 1.587e-02 3.003e-02 6.193e-03 2.538e+01\n",
      " 1.733e+01 1.846e+02 2.019e+03 1.622e-01 6.656e-01 7.119e-01 2.654e-01\n",
      " 4.601e-01 1.189e-01]\n",
      "샘플데이터 정규화 후  b_cancer_scaled[0] 결과 확인 : [ 1.09706398 -2.07333501  1.26993369  0.9843749   1.56846633  3.28351467\n",
      "  2.65287398  2.53247522  2.21751501  2.25574689  2.48973393 -0.56526506\n",
      "  2.83303087  2.48757756 -0.21400165  1.31686157  0.72402616  0.66081994\n",
      "  1.14875667  0.90708308  1.88668963 -1.35929347  2.30360062  2.00123749\n",
      "  1.30768627  2.61666502  2.10952635  2.29607613  2.75062224  1.93701461]\n"
     ]
    }
   ],
   "source": [
    "# 로지스틱 회귀분석에 피쳐로 사용할 데이터를 평균 0 분산 1\n",
    "# 정규 분포 형태로 변환 -> 사이킷 런에서 제공해주는 함수를 이용함\n",
    "# 변환을 하는 이유, 데이터의  동일성, 분석을 효율적으로 하기 위해서 \n",
    "\n",
    "# 정규화를 하는 이유\n",
    "# 1) 서로다른 스케일을 가진 변수들을 , 동일한 청도로 맞춰서 작업 -> 정확도 향상\n",
    "# 2) 알고리즘 성능 향샹\n",
    "# 3) 이상치의 영향 감수\n",
    "# 4) 튜닝시 사용이되는 방법중 하나가, 경사하강방법이 있는데 ,수렵 속도를 빠르게 해줘서 \n",
    "# 전체적 성능이 좋아짐 \n",
    "\n",
    "# 사이킷런에서 제공해서주는 정규화 도구\n",
    "from sklearn.preprocessing import StandardScaler\n",
    "scaler = StandardScaler()\n",
    "\n",
    "# scaler 도구를 이용해서, 유방암 샘플 데이터를 정규화 작업 \n",
    "b_cancer_scaled = scaler.fit_transform(b_cancer.data)\n",
    "print(f\"샘플데이터 정규화 전  b_cancer.data[0] 결과 확인 : {b_cancer.data[0]}\")\n",
    "print(f\"샘플데이터 정규화 후  b_cancer_scaled[0] 결과 확인 : {b_cancer_scaled[0]}\")"
   ]
  },
  {
   "cell_type": "code",
   "execution_count": 10,
   "metadata": {},
   "outputs": [],
   "source": [
    "# 사이킷 런에서 제공하는 모델 불러와서 -> 학습 -> 학습된 모델이용해서 예측값 출력 -> 실제값과 비교분석\n",
    "\n",
    "# 로지스틱 회귀 분석 도구\n",
    "from sklearn.linear_model import LogisticRegression\n",
    "# 훈련, 평가 데이터 분리\n",
    "from sklearn.model_selection import train_test_split\n",
    "\n",
    "# 독립 변수, 종속 변수(\"diagnosis\") 분리\n",
    "Y = b_cancer_df[\"diagnosis\"]\n",
    "# 정규화 된 샘플\n",
    "X = b_cancer_scaled"
   ]
  },
  {
   "cell_type": "code",
   "execution_count": 11,
   "metadata": {},
   "outputs": [],
   "source": [
    "# 훈련용, 테스트용으로 데이터를 분리하는 작업 7:3\n",
    "X_train, X_test, Y_train, Y_test = train_test_split(X,Y, test_size=0.3, random_state = 0 )"
   ]
  },
  {
   "cell_type": "code",
   "execution_count": 12,
   "metadata": {},
   "outputs": [
    {
     "name": "stdout",
     "output_type": "stream",
     "text": [
      "X_train : (398, 30), X_test : (171, 30), Y_train : (398,), Y_test : (171,)\n"
     ]
    }
   ],
   "source": [
    "print(f\"X_train : {X_train.shape}, X_test : {X_test.shape}, Y_train : {Y_train.shape}, Y_test : {Y_test.shape}\")"
   ]
  },
  {
   "cell_type": "code",
   "execution_count": 13,
   "metadata": {},
   "outputs": [],
   "source": [
    "# 모델 생성 \n",
    "lr_b_cancer = LogisticRegression()"
   ]
  },
  {
   "cell_type": "code",
   "execution_count": 14,
   "metadata": {},
   "outputs": [
    {
     "data": {
      "text/plain": [
       "LogisticRegression()"
      ]
     },
     "execution_count": 14,
     "metadata": {},
     "output_type": "execute_result"
    }
   ],
   "source": [
    "# 해당 모델 학습 시키기\n",
    "lr_b_cancer.fit(X_train,Y_train)"
   ]
  },
  {
   "cell_type": "code",
   "execution_count": 17,
   "metadata": {},
   "outputs": [],
   "source": [
    "# 학습된 모델을 이용해서, 예측값 출력해보기\n",
    "y_predict = lr_b_cancer.predict(X_test)"
   ]
  },
  {
   "cell_type": "code",
   "execution_count": 19,
   "metadata": {},
   "outputs": [
    {
     "name": "stdout",
     "output_type": "stream",
     "text": [
      "mse : 0.023391812865497075, rmse : 0.1529438225803745, r2_value : 0.8994708994708995\n"
     ]
    }
   ],
   "source": [
    "# 평가 분석 지표\n",
    "# MSE : 오류 제곱 평균\n",
    "# R^2 Score : 예측값 / 실제값 나눈 비율\n",
    "# Y_test : 답지, y_predict : 상용이가 학습해서, 시험친 결과\n",
    "from sklearn.metrics import mean_squared_error, r2_score\n",
    "mse = mean_squared_error(Y_test, y_predict)\n",
    "# 4 -> 루트 4 -> 2 값을 통일 시켰다. 나중에 스케일링을 많이 함 , 정규화 등으로 고쳐야\n",
    "# 통계시 , 효율적으로 작업이 진행되므로, 그래서 ,이런 작업을 많이 함 \n",
    "rmse = np.sqrt(mse)\n",
    "r2_value = r2_score(Y_test,y_predict)\n",
    "\n",
    "print(f\"mse : {mse}, rmse : {rmse}, r2_value : {r2_value}\")"
   ]
  },
  {
   "cell_type": "code",
   "execution_count": 20,
   "metadata": {},
   "outputs": [],
   "source": [
    "#  오차 행렬을 이용해서 , 분석의 비교 지표값을 정밀도, 재현율, F1 스코어 , ROC와 AUC 스코어등을 이용해서\n",
    "from sklearn.metrics import confusion_matrix, accuracy_score\n",
    "from sklearn.metrics import precision_score, recall_score, f1_score, roc_auc_score"
   ]
  },
  {
   "cell_type": "code",
   "execution_count": 21,
   "metadata": {},
   "outputs": [
    {
     "data": {
      "text/plain": [
       "array([[ 60,   3],\n",
       "       [  1, 107]])"
      ]
     },
     "execution_count": 21,
     "metadata": {},
     "output_type": "execute_result"
    }
   ],
   "source": [
    "# 오차행렬 만들기 행(실제 값:Y_test) , 열 (예측 값:y_predict)\n",
    "# 열 (예측 값:y_predict) , Negative , Positive \n",
    "# 행(실제 값:Y_test) Ne    TN         FP\n",
    "# 행(실제 값:Y_test) Po    FN         TP\n",
    "confusion_matrix(Y_test, y_predict)"
   ]
  },
  {
   "cell_type": "markdown",
   "metadata": {},
   "source": [
    "#### 정확도 = 바르게 예측한 수 / 전체 데이터 수\n",
    "#### 정확도 = (TN + TP) / (TN + TP + FN + TP)\n",
    "\n",
    "#### Positive 예측 성능을 더 정밀하게 평가하는 지표\n",
    "#### 사이킷 런 함수로 제공 : precision_score\n",
    "#### 정밀도 = 참인 것의 수 (TP) / 예측이 긍정인 것 (FP + TP)\n",
    "\n",
    "#### 암환자 진단 할 땐 정밀도가 더 중요 Positive 나온것 중에 실제 암이냐 아니냐?\n",
    "\n",
    "#### 재현율 = 참인 것의 수 (TP) / 실제값이 긍정인 것 중 (FN + TP)\n",
    "#### 실제 Positive인 데이터를 정확히 예측하는 평가 지표. 민감도라고도 하며, TPR (True Positive Rate)\n",
    "#### 사이킷 런 함수로 제곡 : recall_score\n",
    "\n",
    "#### F1 스코어 : 정밀도와 재현율을 결합한 평가지표, 상충관계 문제점을 고려해서, 저확한 평가에 사용됨 \n",
    "#### F1_score = 2 * ( 정밀도 * 재현율) / (정밀도 + 재현율)\n",
    "\n",
    "#### ROC 기반 AUC 스코어\n",
    "#### ROC = 오차행렬에서, FPR(False Positive Rate)\n",
    "#### FPR = FP / (TN + FP)  => 거짓인것 수 / 실제값이 거짓인것 중\n",
    "#### -> 1에 가까울 수록 좋은 성능\n",
    "#### -> 사이킷 런에서 함수 제공 : roc_auc_score"
   ]
  },
  {
   "cell_type": "code",
   "execution_count": 26,
   "metadata": {},
   "outputs": [
    {
     "name": "stdout",
     "output_type": "stream",
     "text": [
      "accuarcy(정확도) 값 : 0.9766081871345029\n"
     ]
    }
   ],
   "source": [
    "# 정확도 (TN + TP) / (TN + TP + FN + TP)\n",
    "accuracy = accuracy_score(Y_test, y_predict)\n",
    "print(f\"accuarcy(정확도) 값 : {accuracy}\")"
   ]
  },
  {
   "cell_type": "code",
   "execution_count": 24,
   "metadata": {},
   "outputs": [
    {
     "name": "stdout",
     "output_type": "stream",
     "text": [
      "precision(정밀도) 값 : 0.9727272727272728\n"
     ]
    }
   ],
   "source": [
    "# 정밀도 (TP) / (FP + TP)\n",
    "precision = precision_score(Y_test, y_predict)\n",
    "print(f\"precision(정밀도) 값 : {precision}\")"
   ]
  },
  {
   "cell_type": "code",
   "execution_count": 25,
   "metadata": {},
   "outputs": [
    {
     "name": "stdout",
     "output_type": "stream",
     "text": [
      "recall(재현율) 값 : 0.9907407407407407\n"
     ]
    }
   ],
   "source": [
    "# 재현율 (TP) / (FN + TP)\n",
    "recall = recall_score(Y_test, y_predict)\n",
    "print(f\"recall(재현율) 값 : {recall}\")"
   ]
  },
  {
   "cell_type": "code",
   "execution_count": 28,
   "metadata": {},
   "outputs": [
    {
     "name": "stdout",
     "output_type": "stream",
     "text": [
      "f1_score 값 : 0.981651376146789\n"
     ]
    }
   ],
   "source": [
    "# F1 스코어\n",
    "f1 = f1_score(Y_test, y_predict)\n",
    "print(f\"f1_score 값 : {f1}\")"
   ]
  },
  {
   "cell_type": "code",
   "execution_count": 30,
   "metadata": {},
   "outputs": [
    {
     "name": "stdout",
     "output_type": "stream",
     "text": [
      "roc_auc_score 값 : 0.9715608465608465\n"
     ]
    }
   ],
   "source": [
    "# ROC 기반 AUC 스코어\n",
    "roc_auc = roc_auc_score(Y_test, y_predict)\n",
    "print(f\"roc_auc_score 값 : {roc_auc}\")"
   ]
  },
  {
   "cell_type": "code",
   "execution_count": 33,
   "metadata": {},
   "outputs": [
    {
     "name": "stdout",
     "output_type": "stream",
     "text": [
      "정확도 : 0.977/ 정밀도 : 0.973/ 재현율 : 0.991/ F1 스코어 : 0.982/ ROC 기반 AUC 스코어 : 0.972\n"
     ]
    }
   ],
   "source": [
    "# 소숫점 3자리 까지 \n",
    "print(\"정확도 : {0:.3f}/ 정밀도 : {1:.3f}/ 재현율 : {2:.3f}/ F1 스코어 : {3:.3f}/ ROC 기반 AUC 스코어 : {4:.3f}\".format(accuracy,precision,recall,f1,roc_auc))"
   ]
  }
 ],
 "metadata": {
  "kernelspec": {
   "display_name": "Python 3",
   "language": "python",
   "name": "python3"
  },
  "language_info": {
   "codemirror_mode": {
    "name": "ipython",
    "version": 3
   },
   "file_extension": ".py",
   "mimetype": "text/x-python",
   "name": "python",
   "nbconvert_exporter": "python",
   "pygments_lexer": "ipython3",
   "version": "3.10.7"
  }
 },
 "nbformat": 4,
 "nbformat_minor": 2
}
