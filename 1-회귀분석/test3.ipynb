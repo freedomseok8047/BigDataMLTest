{
 "cells": [
  {
   "cell_type": "code",
   "execution_count": null,
   "metadata": {},
   "outputs": [],
   "source": [
    "# 타이타닉 생준자수 데이터 가져와서 -> 선형회귀 모델을 구축-학습-평가-그래프 시각화\n"
   ]
  }
 ],
 "metadata": {
  "language_info": {
   "name": "python"
  }
 },
 "nbformat": 4,
 "nbformat_minor": 2
}
